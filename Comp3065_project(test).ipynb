{
 "cells": [
  {
   "cell_type": "code",
   "execution_count": 1,
   "metadata": {
    "colab": {
     "base_uri": "https://localhost:8080/"
    },
    "id": "7JFwKyto2jKK",
    "outputId": "1260770e-5dc0-46cc-eb47-c2aa160bebf3"
   },
   "outputs": [
    {
     "name": "stdout",
     "output_type": "stream",
     "text": [
      "Cloning into 'DerainCycleGAN'...\n",
      "remote: Enumerating objects: 77, done.\u001b[K\n",
      "remote: Counting objects: 100% (77/77), done.\u001b[K\n",
      "remote: Compressing objects: 100% (71/71), done.\u001b[K\n",
      "remote: Total 77 (delta 31), reused 0 (delta 0), pack-reused 0\u001b[K\n",
      "Receiving objects: 100% (77/77), 1.48 MiB | 6.56 MiB/s, done.\n",
      "Resolving deltas: 100% (31/31), done.\n"
     ]
    }
   ],
   "source": [
    "!git clone https://github.com/hiiammikezzz/DerainCycleGAN.git"
   ]
  },
  {
   "cell_type": "code",
   "execution_count": 2,
   "metadata": {
    "id": "akAaeKof2zHs"
   },
   "outputs": [],
   "source": [
    "!cd DerainCycleGAN"
   ]
  },
  {
   "cell_type": "code",
   "execution_count": 3,
   "metadata": {
    "colab": {
     "base_uri": "https://localhost:8080/"
    },
    "id": "s5WaaVhE3S5L",
    "outputId": "28161415-6d4d-445b-ff46-41ab61144f79"
   },
   "outputs": [
    {
     "name": "stdout",
     "output_type": "stream",
     "text": [
      "Requirement already satisfied: scikit-image in /Users/cwhong138/opt/anaconda3/lib/python3.9/site-packages (0.19.2)\n",
      "Requirement already satisfied: PyWavelets>=1.1.1 in /Users/cwhong138/opt/anaconda3/lib/python3.9/site-packages (from scikit-image) (1.3.0)\n",
      "Requirement already satisfied: imageio>=2.4.1 in /Users/cwhong138/opt/anaconda3/lib/python3.9/site-packages (from scikit-image) (2.9.0)\n",
      "Requirement already satisfied: tifffile>=2019.7.26 in /Users/cwhong138/opt/anaconda3/lib/python3.9/site-packages (from scikit-image) (2021.7.2)\n",
      "Requirement already satisfied: packaging>=20.0 in /Users/cwhong138/opt/anaconda3/lib/python3.9/site-packages (from scikit-image) (21.3)\n",
      "Requirement already satisfied: pillow!=7.1.0,!=7.1.1,!=8.3.0,>=6.1.0 in /Users/cwhong138/opt/anaconda3/lib/python3.9/site-packages (from scikit-image) (9.0.1)\n",
      "Requirement already satisfied: networkx>=2.2 in /Users/cwhong138/opt/anaconda3/lib/python3.9/site-packages (from scikit-image) (2.7.1)\n",
      "Requirement already satisfied: numpy>=1.17.0 in /Users/cwhong138/opt/anaconda3/lib/python3.9/site-packages (from scikit-image) (1.21.6)\n",
      "Requirement already satisfied: scipy>=1.4.1 in /Users/cwhong138/opt/anaconda3/lib/python3.9/site-packages (from scikit-image) (1.10.1)\n",
      "Requirement already satisfied: pyparsing!=3.0.5,>=2.0.2 in /Users/cwhong138/opt/anaconda3/lib/python3.9/site-packages (from packaging>=20.0->scikit-image) (3.0.4)\n",
      "\n",
      "\u001b[1m[\u001b[0m\u001b[34;49mnotice\u001b[0m\u001b[1;39;49m]\u001b[0m\u001b[39;49m A new release of pip is available: \u001b[0m\u001b[31;49m23.0.1\u001b[0m\u001b[39;49m -> \u001b[0m\u001b[32;49m24.0\u001b[0m\n",
      "\u001b[1m[\u001b[0m\u001b[34;49mnotice\u001b[0m\u001b[1;39;49m]\u001b[0m\u001b[39;49m To update, run: \u001b[0m\u001b[32;49mpip install --upgrade pip\u001b[0m\n"
     ]
    }
   ],
   "source": [
    "!pip install scikit-image"
   ]
  },
  {
   "cell_type": "code",
   "execution_count": 4,
   "metadata": {
    "colab": {
     "base_uri": "https://localhost:8080/"
    },
    "id": "XAVQFQyt5JGi",
    "outputId": "0e04afae-4a82-4126-8cfc-ed119a4bbf9d"
   },
   "outputs": [
    {
     "name": "stdout",
     "output_type": "stream",
     "text": [
      "Collecting tensorboardX\n",
      "  Downloading tensorboardX-2.6.2.2-py2.py3-none-any.whl (101 kB)\n",
      "\u001b[2K     \u001b[90m━━━━━━━━━━━━━━━━━━━━━━━━━━━━━━━━━━━━━━━\u001b[0m \u001b[32m101.7/101.7 kB\u001b[0m \u001b[31m3.0 MB/s\u001b[0m eta \u001b[36m0:00:00\u001b[0m\n",
      "\u001b[?25hRequirement already satisfied: packaging in /Users/cwhong138/opt/anaconda3/lib/python3.9/site-packages (from tensorboardX) (21.3)\n",
      "Requirement already satisfied: numpy in /Users/cwhong138/opt/anaconda3/lib/python3.9/site-packages (from tensorboardX) (1.21.6)\n",
      "Collecting protobuf>=3.20\n",
      "  Downloading protobuf-5.26.1-cp37-abi3-macosx_10_9_universal2.whl (404 kB)\n",
      "\u001b[2K     \u001b[90m━━━━━━━━━━━━━━━━━━━━━━━━━━━━━━━━━━━━━━━\u001b[0m \u001b[32m404.0/404.0 kB\u001b[0m \u001b[31m8.9 MB/s\u001b[0m eta \u001b[36m0:00:00\u001b[0m00:01\u001b[0m\n",
      "\u001b[?25hRequirement already satisfied: pyparsing!=3.0.5,>=2.0.2 in /Users/cwhong138/opt/anaconda3/lib/python3.9/site-packages (from packaging->tensorboardX) (3.0.4)\n",
      "Installing collected packages: protobuf, tensorboardX\n",
      "  Attempting uninstall: protobuf\n",
      "    Found existing installation: protobuf 3.19.1\n",
      "    Uninstalling protobuf-3.19.1:\n",
      "      Successfully uninstalled protobuf-3.19.1\n",
      "\u001b[31mERROR: pip's dependency resolver does not currently take into account all the packages that are installed. This behaviour is the source of the following dependency conflicts.\n",
      "wandb 0.15.4 requires protobuf!=4.21.0,<5,>=3.19.0; sys_platform != \"linux\", but you have protobuf 5.26.1 which is incompatible.\n",
      "tensorflow 2.11.0 requires absl-py>=1.0.0, but you have absl-py 0.9.0 which is incompatible.\n",
      "tensorflow 2.11.0 requires protobuf<3.20,>=3.9.2, but you have protobuf 5.26.1 which is incompatible.\n",
      "tensorflow-metadata 1.12.0 requires protobuf<4,>=3.13, but you have protobuf 5.26.1 which is incompatible.\n",
      "tensorboard 2.11.0 requires protobuf<4,>=3.9.2, but you have protobuf 5.26.1 which is incompatible.\u001b[0m\u001b[31m\n",
      "\u001b[0mSuccessfully installed protobuf-5.26.1 tensorboardX-2.6.2.2\n",
      "\n",
      "\u001b[1m[\u001b[0m\u001b[34;49mnotice\u001b[0m\u001b[1;39;49m]\u001b[0m\u001b[39;49m A new release of pip is available: \u001b[0m\u001b[31;49m23.0.1\u001b[0m\u001b[39;49m -> \u001b[0m\u001b[32;49m24.0\u001b[0m\n",
      "\u001b[1m[\u001b[0m\u001b[34;49mnotice\u001b[0m\u001b[1;39;49m]\u001b[0m\u001b[39;49m To update, run: \u001b[0m\u001b[32;49mpip install --upgrade pip\u001b[0m\n"
     ]
    }
   ],
   "source": [
    "!pip install tensorboardX"
   ]
  },
  {
   "cell_type": "code",
   "execution_count": 5,
   "metadata": {
    "colab": {
     "base_uri": "https://localhost:8080/"
    },
    "id": "VCFxq8zBQzxZ",
    "outputId": "0ce5010d-413c-4d31-90bc-8ef20624cce1"
   },
   "outputs": [
    {
     "name": "stdout",
     "output_type": "stream",
     "text": [
      "Collecting torchfile\n",
      "  Downloading torchfile-0.1.0.tar.gz (5.2 kB)\n",
      "  Preparing metadata (setup.py) ... \u001b[?25ldone\n",
      "\u001b[?25hBuilding wheels for collected packages: torchfile\n",
      "  Building wheel for torchfile (setup.py) ... \u001b[?25ldone\n",
      "\u001b[?25h  Created wheel for torchfile: filename=torchfile-0.1.0-py3-none-any.whl size=5693 sha256=c804ba00c8bd6e64f2253dd59b511931daa00aa3e55603fefe3a40766d2d8744\n",
      "  Stored in directory: /Users/cwhong138/Library/Caches/pip/wheels/ba/1c/3b/e99cce0ec343fe86216ef6eab1932eb6595968522ba24fb249\n",
      "Successfully built torchfile\n",
      "Installing collected packages: torchfile\n",
      "Successfully installed torchfile-0.1.0\n",
      "\n",
      "\u001b[1m[\u001b[0m\u001b[34;49mnotice\u001b[0m\u001b[1;39;49m]\u001b[0m\u001b[39;49m A new release of pip is available: \u001b[0m\u001b[31;49m23.0.1\u001b[0m\u001b[39;49m -> \u001b[0m\u001b[32;49m24.0\u001b[0m\n",
      "\u001b[1m[\u001b[0m\u001b[34;49mnotice\u001b[0m\u001b[1;39;49m]\u001b[0m\u001b[39;49m To update, run: \u001b[0m\u001b[32;49mpip install --upgrade pip\u001b[0m\n"
     ]
    }
   ],
   "source": [
    "!pip install torchfile"
   ]
  },
  {
   "cell_type": "code",
   "execution_count": 6,
   "metadata": {
    "colab": {
     "base_uri": "https://localhost:8080/"
    },
    "id": "8FxAnbc0TTSw",
    "outputId": "6b1c3a2e-1f2a-4dde-a76e-86dde80c12ce"
   },
   "outputs": [
    {
     "name": "stdout",
     "output_type": "stream",
     "text": [
      "wget: option requires an argument -- 'O'\r\n",
      "wget: missing URL\r\n",
      "Usage: wget [OPTION]... [URL]...\r\n",
      "\r\n",
      "Try `wget --help' for more options.\r\n"
     ]
    }
   ],
   "source": [
    "!wget http://cs.stanford.edu/people/jcjohns/fast-neural-style/models/vgg16.t7 -O"
   ]
  },
  {
   "cell_type": "code",
   "execution_count": 7,
   "metadata": {
    "colab": {
     "base_uri": "https://localhost:8080/"
    },
    "id": "t9cdRh1HcrKA",
    "outputId": "e61efea0-8b1e-4126-b7b8-82563fe1bbac"
   },
   "outputs": [
    {
     "name": "stdout",
     "output_type": "stream",
     "text": [
      "--2024-04-10 20:19:34--  https://download.pytorch.org/models/vgg16-397923af.pth\n",
      "Resolving download.pytorch.org (download.pytorch.org)... 13.224.163.10, 13.224.163.76, 13.224.163.73, ...\n",
      "Connecting to download.pytorch.org (download.pytorch.org)|13.224.163.10|:443... connected.\n",
      "HTTP request sent, awaiting response... 200 OK\n",
      "Length: 553433881 (528M) [binary/octet-stream]\n",
      "Saving to: 'vgg16.pth'\n",
      "\n",
      "vgg16.pth           100%[===================>] 527.79M  36.5MB/s    in 15s     \n",
      "\n",
      "2024-04-10 20:19:49 (35.5 MB/s) - 'vgg16.pth' saved [553433881/553433881]\n",
      "\n"
     ]
    }
   ],
   "source": [
    "!wget -O vgg16.pth https://download.pytorch.org/models/vgg16-397923af.pth"
   ]
  },
  {
   "cell_type": "code",
   "execution_count": 8,
   "metadata": {},
   "outputs": [],
   "source": [
    "#put the pretrained vgg16 model into the vgg16 flie"
   ]
  },
  {
   "cell_type": "code",
   "execution_count": 12,
   "metadata": {
    "colab": {
     "base_uri": "https://localhost:8080/"
    },
    "id": "aIMVWZNW21ug",
    "outputId": "4366a484-0345-4869-f555-da5b8fed4372"
   },
   "outputs": [
    {
     "name": "stdout",
     "output_type": "stream",
     "text": [
      "\n",
      "--- load options ---\n",
      "a2b: 1\n",
      "batch_size: 1\n",
      "crop_size: 216\n",
      "dis_norm: None\n",
      "dis_scale: 3\n",
      "dis_spectral_norm: False\n",
      "display_dir: ../logs\n",
      "display_freq: 1\n",
      "gan_mode: lsgan\n",
      "gpu: 0\n",
      "img_save_freq: 1\n",
      "input_dim_a: 3\n",
      "input_dim_b: 3\n",
      "lr_policy: lambda\n",
      "model_save_freq: 10\n",
      "nThreads: 8\n",
      "n_ep: 400\n",
      "n_ep_decay: 200\n",
      "name: Rain100L\n",
      "no_display_img: False\n",
      "no_flip: False\n",
      "phase: train\n",
      "pool_size: 50\n",
      "resize_size: 256\n",
      "result_dir: ../results\n",
      "resume: None\n",
      "train_path: ./DerainCycleGAN/datasets/rainy_Rain100L\n",
      "val_path: ./DerainCycleGAN/datasets/test_rain100L\n",
      "\n",
      "--- load dataset ---\n",
      "/Users/cwhong138/opt/anaconda3/lib/python3.9/site-packages/torchvision/transforms/transforms.py:329: UserWarning: Argument 'interpolation' of type int is deprecated since 0.13 and will be removed in 0.15. Please use InterpolationMode enum.\n",
      "  warnings.warn(\n",
      "A: 1, B: 1 images\n",
      "A: 1, B: 1 images\n",
      "\n",
      "--- load model ---\n",
      "Traceback (most recent call last):\n",
      "  File \"/Users/cwhong138/Desktop/hw/./DerainCycleGAN/src/train.py\", line 130, in <module>\n",
      "    main()\n",
      "  File \"/Users/cwhong138/Desktop/hw/./DerainCycleGAN/src/train.py\", line 32, in main\n",
      "    model = DerainCycleGAN(opts)\n",
      "  File \"/Users/cwhong138/Desktop/hw/DerainCycleGAN/src/model.py\", line 41, in __init__\n",
      "    self.criterionGAN = GANLoss(opts.gan_mode).cuda(opts.gpu)    \n",
      "  File \"/Users/cwhong138/opt/anaconda3/lib/python3.9/site-packages/torch/nn/modules/module.py\", line 749, in cuda\n",
      "    return self._apply(lambda t: t.cuda(device))\n",
      "  File \"/Users/cwhong138/opt/anaconda3/lib/python3.9/site-packages/torch/nn/modules/module.py\", line 688, in _apply\n",
      "    self._buffers[key] = fn(buf)\n",
      "  File \"/Users/cwhong138/opt/anaconda3/lib/python3.9/site-packages/torch/nn/modules/module.py\", line 749, in <lambda>\n",
      "    return self._apply(lambda t: t.cuda(device))\n",
      "  File \"/Users/cwhong138/opt/anaconda3/lib/python3.9/site-packages/torch/cuda/__init__.py\", line 221, in _lazy_init\n",
      "    raise AssertionError(\"Torch not compiled with CUDA enabled\")\n",
      "AssertionError: Torch not compiled with CUDA enabled\n"
     ]
    }
   ],
   "source": [
    "!CUDA_VISIBLE_DEVICES=0,1,2,3 python3 ./DerainCycleGAN/src/train.py --train_path ./DerainCycleGAN/datasets/rainy_Rain100L --val_path ./DerainCycleGAN/datasets/test_rain100L --name Rain100L"
   ]
  },
  {
   "cell_type": "code",
   "execution_count": null,
   "metadata": {},
   "outputs": [],
   "source": []
  }
 ],
 "metadata": {
  "accelerator": "GPU",
  "colab": {
   "gpuType": "T4",
   "provenance": []
  },
  "kernelspec": {
   "display_name": "Python 3 (ipykernel)",
   "language": "python",
   "name": "python3"
  },
  "language_info": {
   "codemirror_mode": {
    "name": "ipython",
    "version": 3
   },
   "file_extension": ".py",
   "mimetype": "text/x-python",
   "name": "python",
   "nbconvert_exporter": "python",
   "pygments_lexer": "ipython3",
   "version": "3.9.12"
  }
 },
 "nbformat": 4,
 "nbformat_minor": 1
}
